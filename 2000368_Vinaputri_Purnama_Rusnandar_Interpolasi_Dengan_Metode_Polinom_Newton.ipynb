{
  "cells": [
    {
      "cell_type": "markdown",
      "metadata": {
        "id": "view-in-github",
        "colab_type": "text"
      },
      "source": [
        "<a href=\"https://colab.research.google.com/github/vinaputripurnamar/Tugas-Kelompok-Metnum/blob/main/2000368_Vinaputri_Purnama_Rusnandar_Interpolasi_Dengan_Metode_Polinom_Newton.ipynb\" target=\"_parent\"><img src=\"https://colab.research.google.com/assets/colab-badge.svg\" alt=\"Open In Colab\"/></a>"
      ]
    },
    {
      "cell_type": "code",
      "execution_count": 1,
      "metadata": {
        "colab": {
          "base_uri": "https://localhost:8080/",
          "height": 629
        },
        "id": "dLXJjJoTWHx3",
        "outputId": "077ac2b8-faf0-429e-83bc-7227a5e316bb"
      },
      "outputs": [
        {
          "output_type": "stream",
          "name": "stdout",
          "text": [
            "Masukan Nilai: 5\n",
            "[[2. 0. 0.]\n",
            " [4. 0. 0.]\n",
            " [5. 0. 0.]]\n",
            "hasil iterasi j ke- 1\n",
            "hasil iterasi i ke- 0\n",
            "[[2. 1. 0.]\n",
            " [4. 0. 0.]\n",
            " [5. 0. 0.]]\n",
            "hasil iterasi i ke- 1\n",
            "[[2. 1. 0.]\n",
            " [4. 1. 0.]\n",
            " [5. 0. 0.]]\n",
            "hasil iterasi j ke- 2\n",
            "hasil iterasi i ke- 0\n",
            "[[2. 1. 0.]\n",
            " [4. 1. 0.]\n",
            " [5. 0. 0.]]\n",
            "[2. 1. 0.]\n",
            "3.0\n"
          ]
        },
        {
          "output_type": "execute_result",
          "data": {
            "text/plain": [
              "[<matplotlib.lines.Line2D at 0x7f5140f746a0>]"
            ]
          },
          "metadata": {},
          "execution_count": 1
        },
        {
          "output_type": "display_data",
          "data": {
            "text/plain": [
              "<Figure size 504x288 with 1 Axes>"
            ],
            "image/png": "[encoded data removed]"
          },
          "metadata": {
            "needs_background": "light"
          }
        }
      ],
      "source": [
        "# Nama : Vinaputri Purnama Rusnandar\n",
        "# NIM  : 2000368\n",
        "# Kelompok 2 - Interpolasi Dengan Metode Polinom Newton\n",
        "\n",
        "import numpy as np\n",
        "import matplotlib.pyplot as plt\n",
        "\n",
        "def divided_diff(x, y):\n",
        "\n",
        "    n = len(y)\n",
        "    coef = np.zeros([n, n]) #untuk membuat matrik 0 berordo n x n \n",
        "    coef[:,0] = y #untuk menyimpan Y pada matriks coef pada kolom pada indeks ke-0\n",
        "\n",
        "    print(coef)\n",
        "\n",
        "    for j in range(1,n):\n",
        "        print(\"hasil iterasi j ke-\",j)\n",
        "        for i in range(0,n-j):\n",
        "            print(\"hasil iterasi i ke-\",i)\n",
        "            coef[i][j] = (coef[i+1][j-1] - coef[i][j-1]) / (x[i+j]-x[i])\n",
        "            print(coef)         \n",
        "    return coef  #nilai dari Selisih terbagi\n",
        "\n",
        "def newton_poly(coef, x_data, x_input):\n",
        "   \n",
        "    n = len(x_data) - 1\n",
        "    p = coef[n]\n",
        "    for k in range(1,n+1):\n",
        "        p = coef[n-k] + (x_input -x_data[n-k])*p\n",
        "    return p\n",
        "\n",
        "x = np.array([4,6,7])\n",
        "y = np.array([2,4,5])\n",
        "\n",
        "# Koefifisen hasil bagi\n",
        "masukan = float(input(\"Masukan Nilai: \"))\n",
        "a_s = divided_diff(x, y)[0,:]\n",
        "\n",
        "print(a_s)\n",
        "\n",
        "# evaluate on new data points\n",
        "# x_new = np.arange(0, 10, 1)\n",
        "\n",
        "# print(x_new)\n",
        "\n",
        "# y_new = newton_poly(a_s, x, x_new)\n",
        "y_new = newton_poly(a_s, x, masukan)\n",
        "\n",
        "print(y_new)\n",
        "\n",
        "plt.figure(figsize = (7, 4)) #untuk bikin background grafiknya\n",
        "plt.plot(x, y,'o')\n",
        "plt.plot(x, y)\n",
        "# plt.plot(x_new, y_new)"
      ]
    }
  ],
  "metadata": {
    "colab": {
      "provenance": [],
      "include_colab_link": true
    },
    "kernelspec": {
      "display_name": "Python 3.10.8 64-bit (microsoft store)",
      "language": "python",
      "name": "python3"
    },
    "language_info": {
      "codemirror_mode": {
        "name": "ipython",
        "version": 3
      },
      "file_extension": ".py",
      "mimetype": "text/x-python",
      "name": "python",
      "nbconvert_exporter": "python",
      "pygments_lexer": "ipython3",
      "version": "3.10.8"
    },
    "vscode": {
      "interpreter": {
        "hash": "ba37d69516b96b2df66115ef342e83722e1a1518f5d2e0ee41eb08141fa2fe2a"
      }
    }
  },
  "nbformat": 4,
  "nbformat_minor": 0
}