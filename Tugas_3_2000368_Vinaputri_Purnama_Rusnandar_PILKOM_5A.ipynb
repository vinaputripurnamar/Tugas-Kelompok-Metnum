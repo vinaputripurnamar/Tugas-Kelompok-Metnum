{
  "nbformat": 4,
  "nbformat_minor": 0,
  "metadata": {
    "colab": {
      "provenance": [],
      "collapsed_sections": [],
      "authorship_tag": "ABX9TyNTHRh1QeifyFT3fuSMN6Yx",
      "include_colab_link": true
    },
    "kernelspec": {
      "name": "python3",
      "display_name": "Python 3"
    },
    "language_info": {
      "name": "python"
    }
  },
  "cells": [
    {
      "cell_type": "markdown",
      "metadata": {
        "id": "view-in-github",
        "colab_type": "text"
      },
      "source": [
        "<a href=\"https://colab.research.google.com/github/vinaputripurnamar/Tugas-Kelompok-Metnum/blob/main/Tugas_3_2000368_Vinaputri_Purnama_Rusnandar_PILKOM_5A.ipynb\" target=\"_parent\"><img src=\"https://colab.research.google.com/assets/colab-badge.svg\" alt=\"Open In Colab\"/></a>"
      ]
    },
    {
      "cell_type": "markdown",
      "source": [
        "2000368_Vinaputri Purnama Rusnandar_Pendidikan Ilmu Komputer - 5A_Metode Numerik"
      ],
      "metadata": {
        "id": "CN5E_7wVzVRG"
      }
    },
    {
      "cell_type": "code",
      "source": [
        "# NIM         : 2000368\n",
        "# Nama        : Vinaputri Purnama Rusnandar\n",
        "# Kelas       : Pendidikan Ilmu Komputer - 5A\n",
        "# Mata Kuliah : Metode Numerik\n",
        "\n",
        "#3. Eksplorasi pembuatan kode program untuk metode Newton Raphson\n",
        "#   (Mencari akar persamaan f(x) = x^2 - 2x - 8 dengan metode Newton-Raphson)\n",
        "#   Jawab:\n",
        "\n",
        "#   Mendefinisikan suatu fungsi \n",
        "def newton_raphson(f, df, x0, e):\n",
        "\n",
        "    print(\"Nilai Xn : \", x0) \n",
        "    if abs(f(x0)) < e:  2\n",
        "        return x0\n",
        "    else:\n",
        "        xn = x0 - f(x0)/df(x0)\n",
        "        return newton_raphson(f, df, xn, e)\n",
        "\n",
        "#   Lambda : merupakan ekspresi untuk membuat suatu fungsi  \n",
        "#   Mendefinisikan fungsi f(x) yang akan dicari akarnya --> f(x)\n",
        "fx = lambda x : ((x**2)-(2*x)-8)\n",
        "\n",
        "#   Mencari turunan fungsi f(x) --> f'(x)\n",
        "f_prime = lambda x : 2*x - 2\n",
        "\n",
        "#   Nilai tebakan awal atau nilai pendekatannya (x0)\n",
        "n = float(input())\n",
        "\n",
        "#   1e-3 -> 10**3 -> 0,001\n",
        "estimate = newton_raphson(fx, f_prime, n, 1e-3)\n",
        "\n",
        "#   Estimate = x0\n",
        "print(\"Estimate = \", estimate) "
      ],
      "metadata": {
        "id": "KYwNFZPrzmTx"
      },
      "execution_count": null,
      "outputs": []
    }
  ]
}